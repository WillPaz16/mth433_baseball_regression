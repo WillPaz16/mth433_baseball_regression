{
 "cells": [
  {
   "cell_type": "code",
   "execution_count": 1,
   "id": "159c0b2d",
   "metadata": {},
   "outputs": [],
   "source": [
    "import numpy as np\n",
    "import pandas as pd\n",
    "import scipy"
   ]
  },
  {
   "cell_type": "code",
   "execution_count": 2,
   "id": "b0f67d11",
   "metadata": {},
   "outputs": [],
   "source": [
    "def get_A_b(dataframe,park,year,columns):\n",
    "    \"\"\"\n",
    "    Obtains the desired matrix A with columns specified in the function,\n",
    "    and a column matrix b filled with the run outcomes of the desired games.\n",
    "    \"\"\"\n",
    "    df = pd.read_csv(dataframe)\n",
    "    team_df = df.loc[df['ParkID'] == park,:]\n",
    "    \n",
    "    year_df = team_df.loc[team_df['Year'] == year,:]\n",
    "    \n",
    "    off_df = year_df.loc[:,columns]\n",
    "    \n",
    "    off_mat = np.array(off_df).astype(float) \n",
    "    A = np.insert(off_mat, 0, 1, axis=1)\n",
    "    \n",
    "    b_df = year_df.loc[:,['runs']]\n",
    "    b = np.array(b_df).astype(float)\n",
    "    return A,b"
   ]
  },
  {
   "cell_type": "code",
   "execution_count": 3,
   "id": "725c9ed9",
   "metadata": {},
   "outputs": [],
   "source": [
    "def get_beta(dataframe,park,year,columns):\n",
    "    \"\"\"\n",
    "    Inputs: a dataframe (like retro.csv as a dataframe), the ParkID, \n",
    "    year you want to analyze and the columns of the DataFrame that you want to extract. \n",
    "    Returns: beta = [beta1,...,beta5].T  (we don't care about beta0)\n",
    "    \"\"\"\n",
    "    A,b = get_A_b(dataframe,park,year,columns)\n",
    "    \n",
    "    beta = np.linalg.solve(A.T @ A, A.T @ b)\n",
    "    \n",
    "    new_beta = beta[1:]\n",
    "    return new_beta"
   ]
  },
  {
   "cell_type": "code",
   "execution_count": 4,
   "id": "fce3b79e",
   "metadata": {},
   "outputs": [
    {
     "data": {
      "text/plain": [
       "array([[0.48437466],\n",
       "       [0.52624633],\n",
       "       [0.78184949],\n",
       "       [0.46041257],\n",
       "       [1.20354485]])"
      ]
     },
     "execution_count": 4,
     "metadata": {},
     "output_type": "execute_result"
    }
   ],
   "source": [
    "beta = get_beta('retrodata.csv','BOS07',2004,[\"BB\",\"1B\",\"2B\",\"3B\",\"HR\"])\n",
    "beta"
   ]
  },
  {
   "cell_type": "code",
   "execution_count": 5,
   "id": "6c4a5251",
   "metadata": {},
   "outputs": [],
   "source": [
    "def get_beta_BOS_year(year):\n",
    "    \"\"\"\n",
    "    Gets the beta values by using a uniform dataframe ('retrodata.csv'), park ('BOS07'),\n",
    "    and columns (\"BB,1B,2B,3B,HR\")\n",
    "    \"\"\"\n",
    "    beta = get_beta('retrodata.csv','BOS07',year,[\"BB\",\"1B\",\"2B\",\"3B\",\"HR\"])\n",
    "    return beta"
   ]
  },
  {
   "cell_type": "code",
   "execution_count": 6,
   "id": "d8603555",
   "metadata": {},
   "outputs": [],
   "source": [
    "def linear_weights():\n",
    "    \"\"\"\n",
    "    Makes a DataFrame with a year column 2010-2019, and columns labelled 'BB', '1B', '2B', '3B', 'HR'\n",
    "    that contains the beta values you calculated for each year for your specific park. \n",
    "    Then exports the DataFrame as a csv file\n",
    "    \"\"\"\n",
    "    years = list(range(2010, 2020))\n",
    "    BOS = []\n",
    "\n",
    "    for year in years:\n",
    "        betas = get_beta_BOS_year(year)\n",
    "        BOS = np.append(BOS, betas)\n",
    "    \n",
    "    BOS_mat = BOS.reshape(-1, 5)\n",
    "    \n",
    "    BOS_df = pd.DataFrame(BOS_mat)\n",
    "    BOS_df.insert(0, 'Year', years)\n",
    "    \n",
    "    beta_names = {\n",
    "         0 : 'BB',\n",
    "         1 : '1B',\n",
    "         2 : '2B',\n",
    "         3 : '3B',\n",
    "         4 : 'HR'\n",
    "    }\n",
    "    \n",
    "    BOS_df.rename(columns=beta_names, inplace=True)\n",
    "    return BOS_df.to_csv('BOS.csv')"
   ]
  },
  {
   "cell_type": "code",
   "execution_count": 7,
   "id": "7ac1f47d",
   "metadata": {},
   "outputs": [],
   "source": [
    "linear_weights()"
   ]
  },
  {
   "cell_type": "code",
   "execution_count": 8,
   "id": "27afd15f",
   "metadata": {},
   "outputs": [],
   "source": [
    "def player_rankings():\n",
    "    \"\"\"\n",
    "    Makes a DataFrame with 'Player' column and 'R/PA' columns that is sorted from \n",
    "    highest to lowest in the 'R/PA' column.\n",
    "    Input: None\n",
    "    Returns: a csv file\n",
    "    \"\"\"\n",
    "    df = pd.read_csv('fangraphs_batting_2019.csv')\n",
    "    \n",
    "    Players = df[\"Name\"]\n",
    "    PA = df[\"PA\"]\n",
    "    \n",
    "    PA_df = np.array(PA).astype(float)\n",
    "    \n",
    "    H_df = df.loc[:,[\"BB\",\"1B\",\"2B\",\"3B\",\"HR\"]]\n",
    "    X = np.array(H_df).astype(float)\n",
    "    \n",
    "    beta2019 = get_beta_BOS_year(2019)\n",
    "    xRuns = X @ beta2019\n",
    "    runs_per_PA = xRuns.T / PA_df\n",
    "    \n",
    "    player_df = pd.DataFrame(runs_per_PA.T)\n",
    "    player_df.insert(0,\"Player\",Players)\n",
    "    player_df.rename(columns={0 : 'R/PA'}, inplace=True)\n",
    "    \n",
    "    high_to_low_df = player_df.sort_values(by='R/PA',ascending=False)\n",
    "    \n",
    "    return high_to_low_df.to_csv('Rankings_at_Fenway.csv')"
   ]
  },
  {
   "cell_type": "code",
   "execution_count": 9,
   "id": "1fd67690",
   "metadata": {},
   "outputs": [],
   "source": [
    "player_rankings()"
   ]
  },
  {
   "cell_type": "code",
   "execution_count": null,
   "id": "330a1982",
   "metadata": {},
   "outputs": [],
   "source": []
  }
 ],
 "metadata": {
  "kernelspec": {
   "display_name": "Python 3 (ipykernel)",
   "language": "python",
   "name": "python3"
  },
  "language_info": {
   "codemirror_mode": {
    "name": "ipython",
    "version": 3
   },
   "file_extension": ".py",
   "mimetype": "text/x-python",
   "name": "python",
   "nbconvert_exporter": "python",
   "pygments_lexer": "ipython3",
   "version": "3.11.4"
  }
 },
 "nbformat": 4,
 "nbformat_minor": 5
}
